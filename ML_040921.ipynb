{
 "cells": [
  {
   "cell_type": "markdown",
   "id": "spoken-doctor",
   "metadata": {},
   "source": [
    "# The script I use to start the machine learning process. It is by no means pretty. Pieces come from different tutorials so it is not uniform"
   ]
  },
  {
   "cell_type": "code",
   "execution_count": null,
   "id": "provincial-willow",
   "metadata": {},
   "outputs": [],
   "source": [
    "import os\n",
    "import pandas as pd\n",
    "import numpy as np\n",
    "from numpy import array\n",
    "from numpy import argmax\n",
    "\n",
    "from sklearn.preprocessing import LabelEncoder\n",
    "from sklearn.preprocessing import OneHotEncoder\n",
    "import pickle\n",
    "\n",
    "import seqvec\n",
    "from allennlp.commands.elmo import ElmoEmbedder\n",
    "from pathlib import Path\n",
    "import torch\n"
   ]
  },
  {
   "cell_type": "markdown",
   "id": "accessible-settlement",
   "metadata": {},
   "source": [
    "# The following is for one-hot encoding the positions in the sugars"
   ]
  },
  {
   "cell_type": "code",
   "execution_count": null,
   "id": "exciting-september",
   "metadata": {},
   "outputs": [],
   "source": [
    "configs = ['carboxylic', 'terminal alcohol', 'aldehyde', 'terminal phosphate', 'none', 'R alcohol', 'R phosphate', 'S alcohol', 'S phosphate', 'deoxy', 'ketone']\n",
    "values = array(configs)\n",
    "print(values)\n",
    "label_encoder = LabelEncoder()\n",
    "integer_encoded = label_encoder.fit_transform(values)\n",
    "print(integer_encoded)\n",
    "onehot_encoder = OneHotEncoder(sparse=False)\n",
    "integer_encoded = integer_encoded.reshape(len(integer_encoded), 1)\n",
    "onehot_encoded = onehot_encoder.fit_transform(integer_encoded)\n",
    "print(onehot_encoded)\n",
    "inverted = label_encoder.inverse_transform([argmax(onehot_encoded[0,:])])\n",
    "print(inverted)\n",
    "\n",
    "fulltable = pd.read_csv(\"LigandRDFeatures.csv\")\n",
    "positions = ['Pos1', 'Pos2', 'Pos3', 'Pos4', 'Pos5', 'Pos6']\n",
    "for pos in positions:\n",
    "    tmp = list(fulltable[pos])\n",
    "    tmplist = []\n",
    "    for item in tmp:\n",
    "        i = list(values).index(item)\n",
    "        j = onehot_encoded[i]\n",
    "        tmplist.append(j)\n",
    "    fulltable['%s_array' % (pos)] = tmplist"
   ]
  },
  {
   "cell_type": "markdown",
   "id": "czech-filename",
   "metadata": {},
   "source": [
    "# The following is the one-hot encoding for the number of carbons in the sugar. It is nearly identical in form to the one-hot encoding above"
   ]
  },
  {
   "cell_type": "code",
   "execution_count": null,
   "id": "native-weekend",
   "metadata": {},
   "outputs": [],
   "source": [
    "configs = ['C2', 'C3', 'C4', 'C5', 'C6']\n",
    "values = array(configs)\n",
    "print(values)\n",
    "label_encoder = LabelEncoder()\n",
    "integer_encoded = label_encoder.fit_transform(values)\n",
    "print(integer_encoded)\n",
    "onehot_encoder = OneHotEncoder(sparse=False)\n",
    "integer_encoded = integer_encoded.reshape(len(integer_encoded), 1)\n",
    "onehot_encoded = onehot_encoder.fit_transform(integer_encoded)\n",
    "print(onehot_encoded)\n",
    "inverted = label_encoder.inverse_transform([argmax(onehot_encoded[0,:])])\n",
    "print(inverted)\n",
    "\n",
    "\n",
    "tmp = list(fulltable['Carbons'])\n",
    "tmplist = []\n",
    "for item in tmp:\n",
    "    i = list(values).index(item)\n",
    "    j = onehot_encoded[i]\n",
    "    tmplist.append(j)\n",
    "fulltable['Carbons_array'] = tmplist"
   ]
  },
  {
   "cell_type": "markdown",
   "id": "bottom-particular",
   "metadata": {},
   "source": [
    "# This is to join the ligand features for each ligand and to save them in a pickle file for ease of use later"
   ]
  },
  {
   "cell_type": "code",
   "execution_count": 5,
   "id": "furnished-headquarters",
   "metadata": {},
   "outputs": [
    {
     "name": "stdout",
     "output_type": "stream",
     "text": [
      "['carboxylic' 'terminal alcohol' 'aldehyde' 'terminal phosphate' 'none'\n",
      " 'R alcohol' 'R phosphate' 'S alcohol' 'S phosphate' 'deoxy' 'ketone']\n",
      "[ 5  9  4 10  8  0  1  2  3  6  7]\n",
      "[[0. 0. 0. 0. 0. 1. 0. 0. 0. 0. 0.]\n",
      " [0. 0. 0. 0. 0. 0. 0. 0. 0. 1. 0.]\n",
      " [0. 0. 0. 0. 1. 0. 0. 0. 0. 0. 0.]\n",
      " [0. 0. 0. 0. 0. 0. 0. 0. 0. 0. 1.]\n",
      " [0. 0. 0. 0. 0. 0. 0. 0. 1. 0. 0.]\n",
      " [1. 0. 0. 0. 0. 0. 0. 0. 0. 0. 0.]\n",
      " [0. 1. 0. 0. 0. 0. 0. 0. 0. 0. 0.]\n",
      " [0. 0. 1. 0. 0. 0. 0. 0. 0. 0. 0.]\n",
      " [0. 0. 0. 1. 0. 0. 0. 0. 0. 0. 0.]\n",
      " [0. 0. 0. 0. 0. 0. 1. 0. 0. 0. 0.]\n",
      " [0. 0. 0. 0. 0. 0. 0. 1. 0. 0. 0.]]\n",
      "['carboxylic']\n",
      "['C2' 'C3' 'C4' 'C5' 'C6']\n",
      "[0 1 2 3 4]\n",
      "[[1. 0. 0. 0. 0.]\n",
      " [0. 1. 0. 0. 0.]\n",
      " [0. 0. 1. 0. 0.]\n",
      " [0. 0. 0. 1. 0.]\n",
      " [0. 0. 0. 0. 1.]]\n",
      "['C2']\n"
     ]
    }
   ],
   "source": [
    "fullligand_list = []\n",
    "for index, row in fulltable.iterrows():\n",
    "    t = np.concatenate((row['Carbons_array'],row['TPSA'],row['ASA'],row['HBA'],row['HBD'],row['RotBond'],row['LogP'],row['Pos1_array'],row['Pos2_array'],row['Pos3_array'],row['Pos4_array'],row['Pos5_array'],row['Pos6_array']),axis = None)\n",
    "    fullligand_list.append(t)\n",
    "fulltable['FullLigand'] = fullligand_list\n",
    "\n",
    "ligembed = fulltable['FullLigand'].tolist()\n",
    "pickle_out = open(\"Ligand_embeddings_040621.pickle\", \"wb\")\n",
    "pickle.dump(ligembed, pickle_out)\n",
    "pickle_out.close()"
   ]
  },
  {
   "cell_type": "markdown",
   "id": "numeric-valuation",
   "metadata": {},
   "source": [
    "# The following cell is to create the seqvec embeddings for each sequence. I was able to download the model from the seqvec github. The two files needed are weights.hdf5 and options.json."
   ]
  },
  {
   "cell_type": "code",
   "execution_count": 8,
   "id": "dependent-sequence",
   "metadata": {},
   "outputs": [],
   "source": [
    "##Creating dictionary of uniprot codes with fasta seqs\n",
    "import os\n",
    "import pandas as pd\n",
    "import seqvec\n",
    "import numpy as np\n",
    "from allennlp.commands.elmo import ElmoEmbedder\n",
    "from pathlib import Path\n",
    "import torch\n",
    "\n",
    "FastaDict = {}\n",
    "for fastafile in os.listdir('../../Fastas/'):\n",
    "    tmp = []\n",
    "    for line in open('../../Fastas/'+fastafile):\n",
    "        if line[0] == '>':\n",
    "            pass\n",
    "        else:\n",
    "            line = line.rstrip('\\n')\n",
    "            tmp.append(line)\n",
    "    tmp = ''.join(tmp)\n",
    "    FastaDict['%s' % (fastafile[:-6])] = tmp\n",
    "\n",
    "\n",
    "model_dir = Path('../../../../ML_Learning/model')\n",
    "weights = model_dir / 'weights.hdf5'\n",
    "options = model_dir / 'options.json'\n",
    "embedder = ElmoEmbedder(options, weights, cuda_device=-1)\n",
    "UniList = []\n",
    "EmbedList = []\n",
    "\n",
    "for uniprot in FastaDict:\n",
    "    UniList.append(uniprot)\n",
    "    seq = FastaDict[uniprot]\n",
    "    embedding = embedder.embed_sentence(list(seq))\n",
    "    protein_embd = torch.tensor(embedding).sum(dim=0).mean(dim=0)\n",
    "    Full_embed = protein_embd.numpy()\n",
    "\n",
    "    EmbedList.append(Full_embed)\n",
    "        \n",
    "FullProtEmbed = pd.DataFrame()\n",
    "FullProtEmbed['Uniprot'] = UniList\n",
    "FullProtEmbed['Embedding'] = EmbedList\n",
    "\n",
    "import pickle\n",
    "pickle_out = open(\"Protein_embeddings_040621.pickle\", \"wb\")\n",
    "pickle.dump(EmbedList, pickle_out)\n",
    "pickle_out.close()\n",
    "FullProtEmbed['Uniprot'].to_csv('UniprotListing.csv')"
   ]
  },
  {
   "cell_type": "markdown",
   "id": "valid-boring",
   "metadata": {},
   "source": [
    "# This combines each protein-ligand pair with the appropriate embeddings and saves the full features to a pickle file."
   ]
  },
  {
   "cell_type": "code",
   "execution_count": 23,
   "id": "remarkable-vienna",
   "metadata": {},
   "outputs": [],
   "source": [
    "ProteinList = UniList\n",
    "LigandList = list(fulltable['#'])\n",
    "ProtEmbeddings = EmbedList\n",
    "LigandEmbeddings = fullligand_list\n",
    "ActivityTable = pd.read_csv('../../Activity_Table_02Hit.csv')\n",
    "\n",
    "EmbeddingList = []\n",
    "ActivityList = []\n",
    "IdentityList = []\n",
    "\n",
    "protcount = 0\n",
    "\n",
    "LigandList.remove(147)\n",
    "for uniprot in ProteinList:\n",
    "    protembed = ProtEmbeddings[protcount]\n",
    "    ligcount = 0\n",
    "    for ligand in LigandList:\n",
    "        lignum = LigandList[ligcount]\n",
    "\n",
    "        ligembed = LigandEmbeddings[ligcount]\n",
    "        entryembed = np.concatenate((protembed,ligembed),axis=None)\n",
    "        ligcount += 1\n",
    "        IdentityList.append('%s_%s' % (uniprot,ligand))\n",
    "        EmbeddingList.append(entryembed)\n",
    "        Activity = ActivityTable.loc[ActivityTable.UniprotID == uniprot, str(lignum)].values[0]\n",
    "        ActivityList.append(Activity)\n",
    "    protcount += 1\n",
    "\n",
    "pickle_out = open(\"PairEmbeddings_040621.pickle\", \"wb\")\n",
    "pickle.dump(EmbeddingList, pickle_out)\n",
    "pickle_out.close()\n",
    "\n",
    "d = {'Pair_Identity': IdentityList, 'Activity_by_mean': ActivityList}\n",
    "df = pd.DataFrame(d)\n",
    "df.to_csv('Identity_Activity_040621.csv')    "
   ]
  },
  {
   "cell_type": "markdown",
   "id": "explicit-loading",
   "metadata": {},
   "source": [
    "# The following is to load in the pickle file and the activity csv file to use for machine learning. This is for when you have created the embeddings previously."
   ]
  },
  {
   "cell_type": "code",
   "execution_count": 2,
   "id": "violent-negative",
   "metadata": {},
   "outputs": [],
   "source": [
    "pickle_in = open(\"PairEmbeddings_040621.pickle\" , \"rb\")\n",
    "EmbeddingList = pickle.load(pickle_in)\n",
    "\n",
    "df = pd.read_csv('Identity_Activity_040621.csv')\n",
    "ActivityList = df['Activity_by_mean'].tolist()"
   ]
  },
  {
   "cell_type": "markdown",
   "id": "young-bullet",
   "metadata": {},
   "source": [
    "# These are the imports and the splitting of the data into training and validation. I am sorry for import inconsistencies. "
   ]
  },
  {
   "cell_type": "code",
   "execution_count": null,
   "id": "expressed-vertex",
   "metadata": {},
   "outputs": [],
   "source": [
    "import sys\n",
    "import scipy\n",
    "import numpy\n",
    "import matplotlib\n",
    "import pandas\n",
    "import sklearn\n",
    "from pandas import read_csv\n",
    "from pandas.plotting import scatter_matrix\n",
    "from matplotlib import pyplot\n",
    "from sklearn.model_selection import train_test_split\n",
    "from sklearn.model_selection import cross_val_score\n",
    "from sklearn.model_selection import StratifiedKFold\n",
    "from sklearn.metrics import classification_report\n",
    "from sklearn.metrics import confusion_matrix\n",
    "from sklearn.metrics import accuracy_score\n",
    "import sklearn.metrics\n",
    "from sklearn.linear_model import LogisticRegression\n",
    "from sklearn.tree import DecisionTreeClassifier\n",
    "from sklearn.neighbors import KNeighborsClassifier\n",
    "from sklearn.discriminant_analysis import LinearDiscriminantAnalysis\n",
    "from sklearn.naive_bayes import GaussianNB\n",
    "from sklearn.svm import SVC\n",
    "from sklearn import neural_network\n",
    "from scipy.stats import randint as sp_randint\n",
    "from scipy.stats import uniform \n",
    "from numpy import arange\n",
    "from sklearn.datasets import make_classification\n",
    "from sklearn.model_selection import GridSearchCV\n",
    "from sklearn.model_selection import RepeatedStratifiedKFold\n",
    "from sklearn.discriminant_analysis import LinearDiscriminantAnalysis\n",
    "\n",
    "X_train, X_validation, Y_train, Y_validation = train_test_split(EmbeddingList, ActivityList, test_size=0.1)"
   ]
  },
  {
   "cell_type": "markdown",
   "id": "rational-mexican",
   "metadata": {},
   "source": [
    "# This is to test a variety of default methods and compare the results"
   ]
  },
  {
   "cell_type": "code",
   "execution_count": 30,
   "id": "harmful-bryan",
   "metadata": {},
   "outputs": [
    {
     "name": "stdout",
     "output_type": "stream",
     "text": [
      "LR: 0.481128 (0.018150)\n",
      "LDA: 0.532281 (0.011386)\n",
      "KNN: 0.424668 (0.024565)\n",
      "CART: 0.533984 (0.014988)\n",
      "NB: 0.394714 (0.018511)\n"
     ]
    },
    {
     "name": "stderr",
     "output_type": "stream",
     "text": [
      "C:\\Users\\Tim\\anaconda3\\lib\\site-packages\\sklearn\\discriminant_analysis.py:808: UserWarning: Variables are collinear\n",
      "  warnings.warn(\"Variables are collinear\")\n",
      "C:\\Users\\Tim\\anaconda3\\lib\\site-packages\\sklearn\\discriminant_analysis.py:808: UserWarning: Variables are collinear\n",
      "  warnings.warn(\"Variables are collinear\")\n",
      "C:\\Users\\Tim\\anaconda3\\lib\\site-packages\\sklearn\\discriminant_analysis.py:808: UserWarning: Variables are collinear\n",
      "  warnings.warn(\"Variables are collinear\")\n",
      "C:\\Users\\Tim\\anaconda3\\lib\\site-packages\\sklearn\\discriminant_analysis.py:808: UserWarning: Variables are collinear\n",
      "  warnings.warn(\"Variables are collinear\")\n",
      "C:\\Users\\Tim\\anaconda3\\lib\\site-packages\\sklearn\\discriminant_analysis.py:808: UserWarning: Variables are collinear\n",
      "  warnings.warn(\"Variables are collinear\")\n",
      "C:\\Users\\Tim\\anaconda3\\lib\\site-packages\\sklearn\\discriminant_analysis.py:808: UserWarning: Variables are collinear\n",
      "  warnings.warn(\"Variables are collinear\")\n",
      "C:\\Users\\Tim\\anaconda3\\lib\\site-packages\\sklearn\\discriminant_analysis.py:808: UserWarning: Variables are collinear\n",
      "  warnings.warn(\"Variables are collinear\")\n",
      "C:\\Users\\Tim\\anaconda3\\lib\\site-packages\\sklearn\\discriminant_analysis.py:808: UserWarning: Variables are collinear\n",
      "  warnings.warn(\"Variables are collinear\")\n",
      "C:\\Users\\Tim\\anaconda3\\lib\\site-packages\\sklearn\\discriminant_analysis.py:808: UserWarning: Variables are collinear\n",
      "  warnings.warn(\"Variables are collinear\")\n",
      "C:\\Users\\Tim\\anaconda3\\lib\\site-packages\\sklearn\\discriminant_analysis.py:808: UserWarning: Variables are collinear\n",
      "  warnings.warn(\"Variables are collinear\")\n"
     ]
    },
    {
     "name": "stdout",
     "output_type": "stream",
     "text": [
      "QDA: 0.376002 (0.011634)\n",
      "RDG: 0.465706 (0.019636)\n"
     ]
    },
    {
     "name": "stderr",
     "output_type": "stream",
     "text": [
      "C:\\Users\\Tim\\anaconda3\\lib\\site-packages\\sklearn\\neural_network\\_multilayer_perceptron.py:617: ConvergenceWarning: Stochastic Optimizer: Maximum iterations (200) reached and the optimization hasn't converged yet.\n",
      "  % self.max_iter, ConvergenceWarning)\n",
      "C:\\Users\\Tim\\anaconda3\\lib\\site-packages\\sklearn\\neural_network\\_multilayer_perceptron.py:617: ConvergenceWarning: Stochastic Optimizer: Maximum iterations (200) reached and the optimization hasn't converged yet.\n",
      "  % self.max_iter, ConvergenceWarning)\n",
      "C:\\Users\\Tim\\anaconda3\\lib\\site-packages\\sklearn\\neural_network\\_multilayer_perceptron.py:617: ConvergenceWarning: Stochastic Optimizer: Maximum iterations (200) reached and the optimization hasn't converged yet.\n",
      "  % self.max_iter, ConvergenceWarning)\n",
      "C:\\Users\\Tim\\anaconda3\\lib\\site-packages\\sklearn\\neural_network\\_multilayer_perceptron.py:617: ConvergenceWarning: Stochastic Optimizer: Maximum iterations (200) reached and the optimization hasn't converged yet.\n",
      "  % self.max_iter, ConvergenceWarning)\n",
      "C:\\Users\\Tim\\anaconda3\\lib\\site-packages\\sklearn\\neural_network\\_multilayer_perceptron.py:617: ConvergenceWarning: Stochastic Optimizer: Maximum iterations (200) reached and the optimization hasn't converged yet.\n",
      "  % self.max_iter, ConvergenceWarning)\n",
      "C:\\Users\\Tim\\anaconda3\\lib\\site-packages\\sklearn\\neural_network\\_multilayer_perceptron.py:617: ConvergenceWarning: Stochastic Optimizer: Maximum iterations (200) reached and the optimization hasn't converged yet.\n",
      "  % self.max_iter, ConvergenceWarning)\n",
      "C:\\Users\\Tim\\anaconda3\\lib\\site-packages\\sklearn\\neural_network\\_multilayer_perceptron.py:617: ConvergenceWarning: Stochastic Optimizer: Maximum iterations (200) reached and the optimization hasn't converged yet.\n",
      "  % self.max_iter, ConvergenceWarning)\n",
      "C:\\Users\\Tim\\anaconda3\\lib\\site-packages\\sklearn\\neural_network\\_multilayer_perceptron.py:617: ConvergenceWarning: Stochastic Optimizer: Maximum iterations (200) reached and the optimization hasn't converged yet.\n",
      "  % self.max_iter, ConvergenceWarning)\n",
      "C:\\Users\\Tim\\anaconda3\\lib\\site-packages\\sklearn\\neural_network\\_multilayer_perceptron.py:617: ConvergenceWarning: Stochastic Optimizer: Maximum iterations (200) reached and the optimization hasn't converged yet.\n",
      "  % self.max_iter, ConvergenceWarning)\n"
     ]
    },
    {
     "name": "stdout",
     "output_type": "stream",
     "text": [
      "MLPNN: 0.642368 (0.028261)\n"
     ]
    },
    {
     "name": "stderr",
     "output_type": "stream",
     "text": [
      "C:\\Users\\Tim\\anaconda3\\lib\\site-packages\\sklearn\\neural_network\\_multilayer_perceptron.py:617: ConvergenceWarning: Stochastic Optimizer: Maximum iterations (200) reached and the optimization hasn't converged yet.\n",
      "  % self.max_iter, ConvergenceWarning)\n"
     ]
    },
    {
     "data": {
      "image/png": "[encoded data removed]",
      "text/plain": [
       "<Figure size 432x288 with 1 Axes>"
      ]
     },
     "metadata": {
      "needs_background": "light"
     },
     "output_type": "display_data"
    }
   ],
   "source": [
    "#Spot Check Algorithms\n",
    "models = []\n",
    "models.append(('LR', LogisticRegression(solver='liblinear', multi_class='ovr')))\n",
    "models.append(('LDA', LinearDiscriminantAnalysis()))\n",
    "models.append(('KNN', KNeighborsClassifier()))\n",
    "models.append(('CART', DecisionTreeClassifier()))\n",
    "models.append(('NB', GaussianNB()))\n",
    "#models.append(('SVM', SVC(gamma='auto')))\n",
    "models.append(('QDA', sklearn.discriminant_analysis.QuadraticDiscriminantAnalysis()))\n",
    "models.append(('RDG', sklearn.linear_model.RidgeClassifier()))\n",
    "models.append(('MLPNN', sklearn.neural_network.MLPClassifier()))\n",
    "\n",
    "              \n",
    "#evaluate each model in turn\n",
    "results = []\n",
    "names = []\n",
    "for name, model in models:\n",
    "    kfold=StratifiedKFold(n_splits=10, random_state=1, shuffle=True)\n",
    "    cv_results = cross_val_score(model, X_train, Y_train, cv=kfold, scoring='f1')\n",
    "    results.append(cv_results)\n",
    "    names.append(name)\n",
    "    print('%s: %f (%f)' % (name, cv_results.mean(), cv_results.std()))\n",
    "    \n",
    "pyplot.boxplot(results, labels=names)\n",
    "pyplot.title('Algorithm Comparison')\n",
    "pyplot.show()"
   ]
  },
  {
   "cell_type": "markdown",
   "id": "distributed-grill",
   "metadata": {},
   "source": [
    "# Train a model on the full training set and test on the validation set. Variety of metrics printed."
   ]
  },
  {
   "cell_type": "code",
   "execution_count": 5,
   "id": "laden-cover",
   "metadata": {
    "scrolled": false
   },
   "outputs": [
    {
     "name": "stdout",
     "output_type": "stream",
     "text": [
      "0.8653100775193798\n",
      "[[1565  154]\n",
      " [ 124  221]]\n",
      "              precision    recall  f1-score   support\n",
      "\n",
      "           0       0.93      0.91      0.92      1719\n",
      "           1       0.59      0.64      0.61       345\n",
      "\n",
      "    accuracy                           0.87      2064\n",
      "   macro avg       0.76      0.78      0.77      2064\n",
      "weighted avg       0.87      0.87      0.87      2064\n",
      "\n"
     ]
    },
    {
     "name": "stderr",
     "output_type": "stream",
     "text": [
      "C:\\Users\\Tim\\anaconda3\\lib\\site-packages\\sklearn\\neural_network\\_multilayer_perceptron.py:617: ConvergenceWarning: Stochastic Optimizer: Maximum iterations (200) reached and the optimization hasn't converged yet.\n",
      "  % self.max_iter, ConvergenceWarning)\n"
     ]
    }
   ],
   "source": [
    "#Make predictions on validation dataset\n",
    "model = sklearn.neural_network.MLPClassifier(hidden_layer_sizes=(100,100))\n",
    "model.fit(X_train, Y_train)\n",
    "\n",
    "\n",
    "#Evaluate predictions\n",
    "print(sklearn.metrics.accuracy_score(Y_validation, predictions))\n",
    "print(confusion_matrix(Y_validation, predictions))\n",
    "print(classification_report(Y_validation, predictions))"
   ]
  },
  {
   "cell_type": "markdown",
   "id": "indie-spanking",
   "metadata": {},
   "source": [
    "# Hyperparameter tuning of the MLP Classifier. The n_iter indicates how many parameters are sampled, so that would need to be much higher to be useful. GridSearchCV is an alternative to RandomizedSearchCV where it will go through parameter options exhaustively. "
   ]
  },
  {
   "cell_type": "code",
   "execution_count": 45,
   "id": "guilty-velvet",
   "metadata": {},
   "outputs": [
    {
     "name": "stderr",
     "output_type": "stream",
     "text": [
      "C:\\Users\\Tim\\anaconda3\\lib\\site-packages\\sklearn\\neural_network\\_multilayer_perceptron.py:500: ConvergenceWarning: lbfgs failed to converge (status=1):\n",
      "STOP: TOTAL NO. of ITERATIONS REACHED LIMIT.\n",
      "\n",
      "Increase the number of iterations (max_iter) or scale the data as shown in:\n",
      "    https://scikit-learn.org/stable/modules/preprocessing.html\n",
      "  self.n_iter_ = _check_optimize_result(\"lbfgs\", opt_res, self.max_iter)\n",
      "C:\\Users\\Tim\\anaconda3\\lib\\site-packages\\sklearn\\neural_network\\_multilayer_perceptron.py:500: ConvergenceWarning: lbfgs failed to converge (status=1):\n",
      "STOP: TOTAL NO. of ITERATIONS REACHED LIMIT.\n",
      "\n",
      "Increase the number of iterations (max_iter) or scale the data as shown in:\n",
      "    https://scikit-learn.org/stable/modules/preprocessing.html\n",
      "  self.n_iter_ = _check_optimize_result(\"lbfgs\", opt_res, self.max_iter)\n",
      "C:\\Users\\Tim\\anaconda3\\lib\\site-packages\\sklearn\\neural_network\\_multilayer_perceptron.py:500: ConvergenceWarning: lbfgs failed to converge (status=1):\n",
      "STOP: TOTAL NO. of ITERATIONS REACHED LIMIT.\n",
      "\n",
      "Increase the number of iterations (max_iter) or scale the data as shown in:\n",
      "    https://scikit-learn.org/stable/modules/preprocessing.html\n",
      "  self.n_iter_ = _check_optimize_result(\"lbfgs\", opt_res, self.max_iter)\n",
      "C:\\Users\\Tim\\anaconda3\\lib\\site-packages\\sklearn\\neural_network\\_multilayer_perceptron.py:500: ConvergenceWarning: lbfgs failed to converge (status=1):\n",
      "STOP: TOTAL NO. of ITERATIONS REACHED LIMIT.\n",
      "\n",
      "Increase the number of iterations (max_iter) or scale the data as shown in:\n",
      "    https://scikit-learn.org/stable/modules/preprocessing.html\n",
      "  self.n_iter_ = _check_optimize_result(\"lbfgs\", opt_res, self.max_iter)\n",
      "C:\\Users\\Tim\\anaconda3\\lib\\site-packages\\sklearn\\neural_network\\_multilayer_perceptron.py:500: ConvergenceWarning: lbfgs failed to converge (status=1):\n",
      "STOP: TOTAL NO. of ITERATIONS REACHED LIMIT.\n",
      "\n",
      "Increase the number of iterations (max_iter) or scale the data as shown in:\n",
      "    https://scikit-learn.org/stable/modules/preprocessing.html\n",
      "  self.n_iter_ = _check_optimize_result(\"lbfgs\", opt_res, self.max_iter)\n",
      "C:\\Users\\Tim\\anaconda3\\lib\\site-packages\\sklearn\\neural_network\\_multilayer_perceptron.py:500: ConvergenceWarning: lbfgs failed to converge (status=1):\n",
      "STOP: TOTAL NO. of ITERATIONS REACHED LIMIT.\n",
      "\n",
      "Increase the number of iterations (max_iter) or scale the data as shown in:\n",
      "    https://scikit-learn.org/stable/modules/preprocessing.html\n",
      "  self.n_iter_ = _check_optimize_result(\"lbfgs\", opt_res, self.max_iter)\n",
      "C:\\Users\\Tim\\anaconda3\\lib\\site-packages\\sklearn\\neural_network\\_multilayer_perceptron.py:500: ConvergenceWarning: lbfgs failed to converge (status=1):\n",
      "STOP: TOTAL NO. of ITERATIONS REACHED LIMIT.\n",
      "\n",
      "Increase the number of iterations (max_iter) or scale the data as shown in:\n",
      "    https://scikit-learn.org/stable/modules/preprocessing.html\n",
      "  self.n_iter_ = _check_optimize_result(\"lbfgs\", opt_res, self.max_iter)\n",
      "C:\\Users\\Tim\\anaconda3\\lib\\site-packages\\sklearn\\neural_network\\_multilayer_perceptron.py:500: ConvergenceWarning: lbfgs failed to converge (status=1):\n",
      "STOP: TOTAL NO. of ITERATIONS REACHED LIMIT.\n",
      "\n",
      "Increase the number of iterations (max_iter) or scale the data as shown in:\n",
      "    https://scikit-learn.org/stable/modules/preprocessing.html\n",
      "  self.n_iter_ = _check_optimize_result(\"lbfgs\", opt_res, self.max_iter)\n",
      "C:\\Users\\Tim\\anaconda3\\lib\\site-packages\\sklearn\\neural_network\\_multilayer_perceptron.py:500: ConvergenceWarning: lbfgs failed to converge (status=1):\n",
      "STOP: TOTAL NO. of ITERATIONS REACHED LIMIT.\n",
      "\n",
      "Increase the number of iterations (max_iter) or scale the data as shown in:\n",
      "    https://scikit-learn.org/stable/modules/preprocessing.html\n",
      "  self.n_iter_ = _check_optimize_result(\"lbfgs\", opt_res, self.max_iter)\n",
      "C:\\Users\\Tim\\anaconda3\\lib\\site-packages\\sklearn\\neural_network\\_multilayer_perceptron.py:500: ConvergenceWarning: lbfgs failed to converge (status=1):\n",
      "STOP: TOTAL NO. of ITERATIONS REACHED LIMIT.\n",
      "\n",
      "Increase the number of iterations (max_iter) or scale the data as shown in:\n",
      "    https://scikit-learn.org/stable/modules/preprocessing.html\n",
      "  self.n_iter_ = _check_optimize_result(\"lbfgs\", opt_res, self.max_iter)\n"
     ]
    },
    {
     "name": "stdout",
     "output_type": "stream",
     "text": [
      "top f1: 0.526\n",
      "Config: {'activation': 'identity', 'alpha': 0.3464965142407303, 'hidden_layer_sizes': (386, 256), 'learning_rate': 'adaptive', 'solver': 'lbfgs'}\n"
     ]
    },
    {
     "name": "stderr",
     "output_type": "stream",
     "text": [
      "C:\\Users\\Tim\\anaconda3\\lib\\site-packages\\sklearn\\neural_network\\_multilayer_perceptron.py:500: ConvergenceWarning: lbfgs failed to converge (status=1):\n",
      "STOP: TOTAL NO. of ITERATIONS REACHED LIMIT.\n",
      "\n",
      "Increase the number of iterations (max_iter) or scale the data as shown in:\n",
      "    https://scikit-learn.org/stable/modules/preprocessing.html\n",
      "  self.n_iter_ = _check_optimize_result(\"lbfgs\", opt_res, self.max_iter)\n"
     ]
    }
   ],
   "source": [
    "model = sklearn.neural_network.MLPClassifier()\n",
    "\n",
    "parameter_space = {\n",
    "    'hidden_layer_sizes': [(sp_randint.rvs(100,600,1),sp_randint.rvs(100,600,1),), \n",
    "                                          (sp_randint.rvs(100,600,1),)],\n",
    "    'activation': ['tanh', 'identity', 'relu', 'logistic'],\n",
    "    'solver': ['sgd', 'adam', 'lbfgs'],\n",
    "    'alpha': uniform(0.0001, 0.9),\n",
    "    'learning_rate': ['constant','adaptive']}\n",
    "\n",
    "cv = RepeatedStratifiedKFold(n_splits=10, n_repeats=1, random_state=42)\n",
    "\n",
    "search = sklearn.model_selection.RandomizedSearchCV(model,parameter_space, scoring='f1',cv=cv, n_iter=1)\n",
    "results = search.fit(X_train, Y_train)\n",
    "print('top f1: %.3f' % results.best_score_)\n",
    "print('Config: %s' % results.best_params_)"
   ]
  },
  {
   "cell_type": "code",
   "execution_count": 38,
   "id": "informative-lounge",
   "metadata": {},
   "outputs": [],
   "source": []
  },
  {
   "cell_type": "code",
   "execution_count": null,
   "id": "following-enough",
   "metadata": {},
   "outputs": [],
   "source": []
  }
 ],
 "metadata": {
  "kernelspec": {
   "display_name": "Python 3",
   "language": "python",
   "name": "python3"
  },
  "language_info": {
   "codemirror_mode": {
    "name": "ipython",
    "version": 3
   },
   "file_extension": ".py",
   "mimetype": "text/x-python",
   "name": "python",
   "nbconvert_exporter": "python",
   "pygments_lexer": "ipython3",
   "version": "3.7.10"
  }
 },
 "nbformat": 4,
 "nbformat_minor": 5
}
